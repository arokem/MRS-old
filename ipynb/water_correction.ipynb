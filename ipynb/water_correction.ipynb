{
 "metadata": {
  "name": ""
 },
 "nbformat": 3,
 "nbformat_minor": 0,
 "worksheets": [
  {
   "cells": [
    {
     "cell_type": "code",
     "collapsed": false,
     "input": [
      "import MRS.leastsqbound as lsq\n",
      "import MRS\n",
      "import MRS.utils as utils\n",
      "reload(utils)\n",
      "import MRS.optimize as mopt\n",
      "import MRS.analysis as ana\n",
      "reload(ana)\n",
      "import nitime as nt\n",
      "import os"
     ],
     "language": "python",
     "metadata": {},
     "outputs": []
    },
    {
     "cell_type": "code",
     "collapsed": false,
     "input": [
      "data_path = '/Users/arokem/projects/GABA_data/3761/'\n",
      "file_name = data_path + 'P22528.7'"
     ],
     "language": "python",
     "metadata": {},
     "outputs": []
    },
    {
     "cell_type": "code",
     "collapsed": false,
     "input": [
      "d = np.transpose(nib.load(file_name).get_data(),\n",
      "                                     [1,2,3,4,5,0]).squeeze()\n"
     ],
     "language": "python",
     "metadata": {},
     "outputs": []
    },
    {
     "cell_type": "code",
     "collapsed": false,
     "input": [
      "d.shape"
     ],
     "language": "python",
     "metadata": {},
     "outputs": []
    },
    {
     "cell_type": "code",
     "collapsed": false,
     "input": [
      "w_sig, w_supp_sig = ana.coil_combine(d)"
     ],
     "language": "python",
     "metadata": {},
     "outputs": []
    },
    {
     "cell_type": "code",
     "collapsed": false,
     "input": [
      "mean_nw = np.mean(w_supp_sig,0)\n",
      "water_only = np.mean(w_sig - mean_nw, 0)\n",
      "mean_water = np.mean(w_sig, 0)\n",
      "\n",
      "scale_factor = water_only/mean_nw\n",
      "\n",
      "sig = w_supp_sig - water_only/scale_factor[:,0,np.newaxis]\n"
     ],
     "language": "python",
     "metadata": {},
     "outputs": []
    },
    {
     "cell_type": "code",
     "collapsed": false,
     "input": [],
     "language": "python",
     "metadata": {},
     "outputs": []
    },
    {
     "cell_type": "code",
     "collapsed": false,
     "input": [
      "sig = ana.subtract_water(w_sig, w_supp_sig)"
     ],
     "language": "python",
     "metadata": {},
     "outputs": []
    },
    {
     "cell_type": "code",
     "collapsed": false,
     "input": [
      "f, s = ana.get_spectra(sig, line_broadening=2, zerofill=100, filt_method=None)"
     ],
     "language": "python",
     "metadata": {},
     "outputs": []
    },
    {
     "cell_type": "code",
     "collapsed": false,
     "input": [
      "f_ppm = utils.freq_to_ppm(f)\n",
      "idx = utils.ppm_idx(f_ppm, 1, 4.6)"
     ],
     "language": "python",
     "metadata": {},
     "outputs": []
    },
    {
     "cell_type": "code",
     "collapsed": false,
     "input": [
      "s.shape"
     ],
     "language": "python",
     "metadata": {},
     "outputs": []
    },
    {
     "cell_type": "code",
     "collapsed": false,
     "input": [
      "plot(f_ppm[idx], s[0,0][idx])"
     ],
     "language": "python",
     "metadata": {},
     "outputs": []
    },
    {
     "cell_type": "code",
     "collapsed": false,
     "input": [],
     "language": "python",
     "metadata": {},
     "outputs": []
    }
   ],
   "metadata": {}
  }
 ]
}